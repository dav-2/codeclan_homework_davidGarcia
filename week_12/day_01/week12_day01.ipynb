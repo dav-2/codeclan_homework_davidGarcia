{
 "cells": [
  {
   "cell_type": "code",
   "execution_count": 3,
   "metadata": {},
   "outputs": [],
   "source": [
    "#Write a function that takes in a list and returns a two-element list containing the first and last elements of \n",
    "#the inputted list. For example, for input [3, 6, 2,  19], the function should return [3, 19]\n",
    "def first_last(input_list):\n",
    "    print([input_list[0], input_list[-1]])"
   ]
  },
  {
   "cell_type": "code",
   "execution_count": 6,
   "metadata": {},
   "outputs": [
    {
     "name": "stdout",
     "output_type": "stream",
     "text": [
      "[2, 4]\n"
     ]
    }
   ],
   "source": [
    "first_last([2, 3, 5, 4])"
   ]
  },
  {
   "cell_type": "code",
   "execution_count": 47,
   "metadata": {},
   "outputs": [
    {
     "data": {
      "text/plain": [
       "{'letters': 10, 'numbers': 3}"
      ]
     },
     "execution_count": 47,
     "metadata": {},
     "output_type": "execute_result"
    }
   ],
   "source": [
    "#Write a function that takes in a sentence and returns a dictionary containing a count of letters and digits. \n",
    "#For example, for input \"hello world! 123\", the function output should be {'digits': 3, 'letters': 10}\n",
    "from string import ascii_lowercase\n",
    "\n",
    "def frequencies(sentence):\n",
    "    letters = 0\n",
    "    numbers = 0\n",
    "    sentence = sentence.replace(\" \", \"\")\n",
    "    list(sentence)\n",
    "    result = {}\n",
    "    for item in sentence:\n",
    "        try:\n",
    "            int(item)\n",
    "            numbers = numbers + 1\n",
    "        except:\n",
    "            if item in ascii_lowercase:\n",
    "                letters = letters + 1\n",
    "    result.update({\"letters\": letters, \"numbers\": numbers})    \n",
    "    return(result)\n",
    "\n",
    "frequencies(\"hello world! 123\")"
   ]
  },
  {
   "cell_type": "code",
   "execution_count": null,
   "metadata": {},
   "outputs": [],
   "source": []
  },
  {
   "cell_type": "code",
   "execution_count": null,
   "metadata": {},
   "outputs": [],
   "source": []
  },
  {
   "cell_type": "code",
   "execution_count": null,
   "metadata": {},
   "outputs": [],
   "source": []
  }
 ],
 "metadata": {
  "kernelspec": {
   "display_name": "Python 3",
   "language": "python",
   "name": "python3"
  },
  "language_info": {
   "codemirror_mode": {
    "name": "ipython",
    "version": 3
   },
   "file_extension": ".py",
   "mimetype": "text/x-python",
   "name": "python",
   "nbconvert_exporter": "python",
   "pygments_lexer": "ipython3",
   "version": "3.7.4"
  }
 },
 "nbformat": 4,
 "nbformat_minor": 2
}
