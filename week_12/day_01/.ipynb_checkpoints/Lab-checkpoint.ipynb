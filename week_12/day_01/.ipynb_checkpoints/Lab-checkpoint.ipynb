{
 "cells": [
  {
   "cell_type": "code",
   "execution_count": 11,
   "metadata": {},
   "outputs": [
    {
     "name": "stdout",
     "output_type": "stream",
     "text": [
      "30\n",
      "29\n",
      "30\n",
      "30\n",
      "28\n",
      "29\n",
      "44\n",
      "36\n",
      "80\n"
     ]
    },
    {
     "data": {
      "text/plain": [
       "[None, None, None, None, None, None, None, None, None]"
      ]
     },
     "execution_count": 11,
     "metadata": {},
     "output_type": "execute_result"
    }
   ],
   "source": [
    "#1 Given a list of the years in which people were born, write a list comprehension to determine their age based on the current year. Ignore dates and months when calculating this.\n",
    "#years_of_birth = [1990, 1991, 1990, 1990, 1992, 1991, 1976, 1984, 1940]\n",
    "from datetime import date\n",
    "[print(datetime.datetime.now().year - i) for i in [1990, 1991, 1990, 1990, 1992, 1991, 1976, 1984, 1940]]\n",
    "\n"
   ]
  },
  {
   "cell_type": "code",
   "execution_count": 55,
   "metadata": {},
   "outputs": [],
   "source": [
    "# Write a function is_palindrome(input_string) to determine whether an input string is a palindrome \n",
    "#(i.e. reads the same backwards as forwards, e.g. ‘madam’). The function should return True if the string is a \n",
    "#palindrome and False otherwise. As an extension, amend your code so that it strips out spaces from the string.\n",
    "\n",
    "def is_palindrome(input_string):\n",
    "    if list(input_string.casefold()) == list(reversed(input_string.casefold())):\n",
    "        print(\"True: \" + input_string.replace(\" \", \"\"))\n",
    "    else:\n",
    "        print(\"False: \" + input_string.replace(\" \", \"\"))\n",
    "    "
   ]
  },
  {
   "cell_type": "code",
   "execution_count": 56,
   "metadata": {},
   "outputs": [
    {
     "name": "stdout",
     "output_type": "stream",
     "text": [
      "False: eeo\n"
     ]
    }
   ],
   "source": [
    "is_palindrome(\"e e o\")"
   ]
  },
  {
   "cell_type": "code",
   "execution_count": 74,
   "metadata": {},
   "outputs": [
    {
     "data": {
      "text/plain": [
       "233168"
      ]
     },
     "execution_count": 74,
     "metadata": {},
     "output_type": "execute_result"
    }
   ],
   "source": [
    "# If we list all the natural numbers below 10 that are multiples of 3 or 5, we get 3, 5, 6 and 9. The sum of these \n",
    "# multiples is 23. Find the sum of all the multiples of 3 or 5 below 1000.\n",
    "\n",
    "x = [i for i in (range(0, 1000)) if i % 3 == 0 or i % 5 == 0]\n",
    "sum(x)"
   ]
  },
  {
   "cell_type": "code",
   "execution_count": 27,
   "metadata": {},
   "outputs": [],
   "source": [
    "\n",
    "    "
   ]
  },
  {
   "cell_type": "code",
   "execution_count": 28,
   "metadata": {},
   "outputs": [
    {
     "data": {
      "text/plain": [
       "<reversed at 0x10fb47750>"
      ]
     },
     "execution_count": 28,
     "metadata": {},
     "output_type": "execute_result"
    }
   ],
   "source": []
  },
  {
   "cell_type": "code",
   "execution_count": null,
   "metadata": {},
   "outputs": [],
   "source": []
  }
 ],
 "metadata": {
  "kernelspec": {
   "display_name": "Python 3",
   "language": "python",
   "name": "python3"
  },
  "language_info": {
   "codemirror_mode": {
    "name": "ipython",
    "version": 3
   },
   "file_extension": ".py",
   "mimetype": "text/x-python",
   "name": "python",
   "nbconvert_exporter": "python",
   "pygments_lexer": "ipython3",
   "version": "3.7.4"
  }
 },
 "nbformat": 4,
 "nbformat_minor": 2
}
